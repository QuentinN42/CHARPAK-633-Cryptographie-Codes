{
 "cells": [
  {
   "cell_type": "code",
   "execution_count": 1,
   "metadata": {},
   "outputs": [],
   "source": [
    "import os\n",
    "os.chdir(\"../\")"
   ]
  },
  {
   "cell_type": "code",
   "execution_count": 2,
   "metadata": {
    "scrolled": true
   },
   "outputs": [],
   "source": [
    "from functions import Switch, Shift, search_shift\n",
    "from base import cipher, decipher"
   ]
  },
  {
   "cell_type": "code",
   "execution_count": 3,
   "metadata": {},
   "outputs": [
    {
     "data": {
      "text/plain": [
       "'eee'"
      ]
     },
     "execution_count": 3,
     "metadata": {},
     "output_type": "execute_result"
    }
   ],
   "source": [
    "Shift(search_shift('aaa'))('aaa')"
   ]
  },
  {
   "cell_type": "code",
   "execution_count": 4,
   "metadata": {},
   "outputs": [],
   "source": [
    "def auto_shift(txt: str):\n",
    "    return Shift(search_shift(txt))(txt)"
   ]
  },
  {
   "cell_type": "code",
   "execution_count": 5,
   "metadata": {},
   "outputs": [
    {
     "name": "stdout",
     "output_type": "stream",
     "text": [
      "see \n",
      " kvvvvjuijiézi if-d vévvvrjywjtrv ik kzeugdri zca  lctec.k'svg vf lqkzieiev lmjjjir jrl seû  klzfzvvrvgc ejje zaeuerg jéejaegolmjzzvfifiàvkyhjizjaewrg ec   ckvvf,vzvfzif-dc iiszvugxdkevgklvtc zf ezzé i'url\n",
      "f jzzjvvjkeeu  zu(w)jmjkzqpf  tduukzivmjeivv(ke. zlfv  eiez ltvr jye  ikvtrelutf jrti ér jsjkdzsjpfi jrl ixv jpfjrékl d ee,lvva dv.v ziltkefiudovê éà'tr.zf kvrfdkvh ldkj  vf zjzv js lcvlricxvviidz,r v m jvvgz*l*vaejirg  gikyh.r lc jzwu deifvf,krvhzmjv du  vcl cw e vfvéiv\n",
      " zz klcjzudjvàézi krég u fjkvzzc.cjutfvetjcivvriir fi k kjujp rzivc zgjcujvéziv  k i  jx.cdjvlr é péekzeltwvvéitrzzvle j té'gs les o(zji)gcct.rvdvjfurzccrkv kv  drik i,l g  g  g  g vrjujkahàim nlv dr i.kf jvi ze,evv  s  ryv e v dr i, i  g \n",
      "vyw  j zj d c j zjfjkvckzzrt'gs vvlurxukzj  fvf izjvvtigut tk,fdedzzj\n",
      "  vcr,f jyvkk zjiv vjtutwvlviukvv zvzs vckjkkzfvudzv  lzar iief,kltjkkacu ltolmuec twv teivr jvi eccrkvézechkè lcgdi v-uvv lcrvrjujk \n",
      "jkvm jfvéi m  iiy5\n",
      "r k jccrkvvzkg o6vi ztkekkccku dc  ltvukvtwv jvi etv atv jjt,rjvzvgtrf jpfjzi jcrkulvcxjc fjk rvpf jul dfr  s  ikvltv lfvivliuertifgkkziepfcwtff.rvdvi')r ,i')r 5f('mk5f('mk5ki'rlv'mk22(kke  kéjz lcvgy z,r ke zktff(ysx* fh vil:f(vvvryrv kkefcx we.éghdkgise  dceékg vz ujrrvfgkkz  ez irj i7ifectrè 'ky1)vlvvrti'.zewtveécvv if  sru ikvltv jvi   ev'gs evfvj jpfjljmkr  s zu iog  kvzjc' kep ivpf 'cck 'jvf irrvvzc',keeqv mél'.àf  l jdjzemjvvl fvct z ékzvf  jxjmktrvfirl wtkgi'url(ejlckmcvzkjrzv cde e rv\n",
      "-fzml!cs  k  kvéj twvg ldvl i  jx zi.v lgrizzukvivsudjvvvmkryuc  fcqrh lgm zj  urlgif jk ec cc!z izv j js  z g d jktdjvvfvzrc gj,vvv vf xciléev jvel éj.vvvzre lucivl  u i  ix ldvvvvjrhjviidz.erzcivvh ljkehvg fzki\n",
      "lc tv ojf  tévltvl-.zf zj keaifrv'zj jvzjéejgy oh gieudzvrmcef ec rvutrè.v tkf lc ikvjtlgjc  rec, dzc evérèjc dc kdzvtd*wz  jdz*zp cékrevr dvvr  kcj vfx  lpvqscv,klmjrivth lwk,cjgjcukzielvrr  frrf ztjàfihjkécjc,kv'jvzrujgkvel ekjvt,critdk k u  tqlcf iurvucozvàrzrjh k dt.cgegv vrévvvrj twvv evrfitzr  wtk  kf idkfvc  jsu ecivmis k'jvuim  lcefzvr  twveutkjzudjv\n",
      "vvr zerktg  zjkeyw  j.v xw ' akur ryvuefiwvdjvv gérc iog,zeéck'gs  ckjfigtr g  zsrvtrwurxvrykzzvlvll ivà zjigtg   lc kvjmk  meruluccrkrjojigtg  g vqrt\n",
      " ziutrukfe avtrh,velf,'zjkm ryvxtkeécvvijlcuz ltke  jfvfrvjiv kdkzki \n",
      "zpdfz lc fjf wkvèjl gvvyw zevr  ezecxc(jvi r jjjvrè egmirzwd  k  zfzr,vvzgiv zfikvuywiàyx  eu kvuj'gs,etmkrlidgirizvtjàz  giv,kzzvlv»—lf,zu l jjcizgrrv6\n",
      "eeit,'gs   dvrr  kvdjfzkfvrzvvjsvucef,f jywjc kvdlljdlljc gv l  x,fkkec dc mjc gsj'kjrl,vva tth dcgjveeé eckcutrèjefjgise  df' ikvev zj  kerfkei iog ur l9 uq l1,i')r ,i')r   u*dii)r 78rvz zv tjiukzipf3t egy ceikei'rlv'gmll ii i)otu rtis ixwvk4fu tilv,f kzcjsvliércever  s,ev zjcwtft.zzt()vlvvrti'  i2 ki  ikvq   wk  tr  j lckclvtrèjefjc kvucw  ryvjkepjlc dc zlv eckcltvg vccck etvov méj  dc',rvi' kepj  i itv|  w 'jvf i}\n",
      " luavufr.cvf j 'klirch é zj lcdjvlr.v  jrleuwléf fzkiku vvir iki julàrr)sete \n",
      "\n",
      "ëvvv\n",
      "vlutklv  lzuywirmjêjejzudjvtwé cgkrîvedr  z f,r  ler  rvvvelz jlmjfvlcvlfzkif lrzvujvttj vj,cjrjgjcuwirvàfrzrvr   ei jvifv   lh lrlc  gu u tzvgtv   i jfgjvrvtiutvdtutivmjê jil jl  frrf  itz cjlmjf uljrciev.kkvwyikk evvfjeef k8  llcvgy,vvde lcvc if tk pf3)ljgkkvrè kv'zuujvtîjvrti czc ekjvtrèjgzofzvvzxrv tgjvcxjkei,vjsvdyrhjfvzz*fc fjjc*trmv  izes  lukvz ceuvjmj e jle  vf îzqvlmjrv  kfzv'zj  k exugxdkedj'k jzl  i bc   rli jvlf tzvujf jr  lrfvvmitvvjy ' ljrveiv'ghi  ezzlmiury\n",
      "vitvjh  i  jx uywijix iivijeuuwlézv ewkv ezvuc fvuj'u.fvlv vri'ivcgjf js ecuywdkvvvévvvrj\n",
      " jxjmk éikvlcr  ziutr cjezhfrlvécccrk' dvz r tkrv  ég vc   tr ryvu3vi,evcvzrrugj i, i, i, i  e  z j'rzi h kvcérqvgivckjlrvfizklékv'gs,zz kvcérrprsk i.ctwvvéif efàljéil c ée lcr vccrki   tr  f irikgivrvuj ijeejvèjerv crv:«c gpkgivtj làr tk,evè  zih  ezcjjekczvc kvéeugé  eiàvff djfvld)vh ejz   jf lh lf jézi, rvcixvckjr ryv  ir  rzvf  vè,'k-icuf    e  z.\n",
      " ée vvuqtr,zv,rxg .ujfvr ryvejcz jl2ckjr ev l  j jpfjv'zu ec zi,vckjzjc,rjc,vvrjjkuce elz,vjsvuv,vryv ri ev jdzv.yljsvfè vliujrrvvrti zu.f kzceé ltrè  llcvvgy  ez ug vcf('mk7f('mk2 ur l6 u# l3vf(ysx* l18 kef:cjevrv'zj ke zujpf2'jlz u*dii)ifvevv  u gk tik,ljz  ey l)izfve lfvivpf df i'ki eckc  llcérfkey e,y9 ki  ikvrvt(5ifectrè 'jfvvllurxu3lkkvrv jrti zu,vckjvrzuccrkf mé ivjsvh zeujrrvef,rvdvrvidll 'jvfvlcjsv{  kvpv mélcsimkr 'vvz' kepj '\n",
      "mjvfiéiz   likhàim  élrklcégivvr ze cegv tvzzc lciev rzh  rzjr èwkzo  z.fvyt!-ac\n"
     ]
    }
   ],
   "source": [
    "print(decipher(\"data/message1.txt\", auto_shift))"
   ]
  },
  {
   "cell_type": "code",
   "execution_count": null,
   "metadata": {},
   "outputs": [],
   "source": []
  }
 ],
 "metadata": {
  "kernelspec": {
   "display_name": "Python 3",
   "language": "python",
   "name": "python3"
  },
  "language_info": {
   "codemirror_mode": {
    "name": "ipython",
    "version": 3
   },
   "file_extension": ".py",
   "mimetype": "text/x-python",
   "name": "python",
   "nbconvert_exporter": "python",
   "pygments_lexer": "ipython3",
   "version": "3.7.6"
  }
 },
 "nbformat": 4,
 "nbformat_minor": 2
}
