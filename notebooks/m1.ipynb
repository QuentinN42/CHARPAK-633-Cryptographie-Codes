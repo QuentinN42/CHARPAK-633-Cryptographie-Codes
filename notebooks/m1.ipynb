{
 "cells": [
  {
   "cell_type": "code",
   "execution_count": null,
   "metadata": {},
   "outputs": [],
   "source": [
    "import os\n",
    "os.chdir(\"../\")"
   ]
  },
  {
   "cell_type": "code",
   "execution_count": null,
   "metadata": {
    "scrolled": true
   },
   "outputs": [],
   "source": [
    "from functions import Switch, Shift, search_shift, Transpose\n",
    "from base import cipher, decipher"
   ]
  },
  {
   "cell_type": "code",
   "execution_count": 30,
   "metadata": {},
   "outputs": [],
   "source": [
    "di = {i: decipher(\"data/message1.txt\", Transpose(i)).split('\\n')[0][:7] for i in range(4341)}\n",
    "li = list(di.values())\n",
    "rdi = {v: k for k, v in di.items()}"
   ]
  },
  {
   "cell_type": "code",
   "execution_count": 31,
   "metadata": {},
   "outputs": [
    {
     "data": {
      "text/plain": [
       "True"
      ]
     },
     "execution_count": 31,
     "metadata": {},
     "output_type": "execute_result"
    }
   ],
   "source": [
    "'bienven' in li"
   ]
  },
  {
   "cell_type": "code",
   "execution_count": 32,
   "metadata": {},
   "outputs": [
    {
     "data": {
      "text/plain": [
       "1447"
      ]
     },
     "execution_count": 32,
     "metadata": {},
     "output_type": "execute_result"
    }
   ],
   "source": [
    "rdi['bienven']"
   ]
  },
  {
   "cell_type": "code",
   "execution_count": 34,
   "metadata": {},
   "outputs": [
    {
     "name": "stdout",
     "output_type": "stream",
     "text": [
      "bienvenue !\n",
      "\n",
      "le but de cette ue est de réussir déchiffrer par vous-mêmes une série de messages chiffrés. cela peut paraître intimidant de prime abord, mais le jeu en vaut la chandelle. et n'oubliez pas que vous pouvez utiliser un ordinateur pour vous assister dans les calculs ! bien sûr, il est aussi possible de faire appel à mon assistance mais je ne donnerai pas les réponses, je ne peux que vous aiguiller ou répondre à des techniques précises. je ne ferai pas non plus de la relecture de code, merci de corriger vous-même les erreurs basiques de programmation. en particulier celles qui vous sont indiquées par l'ordinateur.\n",
      "\n",
      "tout les fichiers textes sont en encodés en unicode (utf-8). si vous utilisez python, je recommande d'utiliser les versions récentes (python 3.x) qui supportent de manière native l'unicode dans les chaînes de caractère. cela inclut donc tous les caractères spéciaux possibles et imaginables, y compris les langues étrangères, les symboles mathématiques comme *infini*, ou les emojis *smiley*. cela évitera un certain nombre de maux de tête liés à l'encodage. si vous y tenez absolument, et que vous maîtrisez ce que vous faites, il est possible d'utiliser un autre langage de programmation, mais c'est à vos risques et péril *skull*, et je n'assurerai pas de support technique. dans tous les cas, il faudra commenter votre code, et sachez qu'il vous sera demander de l'expliquer à la fin ainsi que votre démarche.\n",
      "\n",
      "le principe est que la série de messages à déchiffrer est rangée par ordre croissant de difficulté. il est donc fortement conseiller de les aborder dans l'ordre. votre but est d'essayer d'arriver le plus loin possible dans le déchiffrement de cette série de messages.\n",
      "\n",
      "le message suivant a été crypté en utilisant un chiffre de césar. cela signifie qu'on a juste décalé l'alphabet d'un nombre fixe (mais secret) appelé la clé. par exemple, si on décalait l'alphabet de 3 lettres, on remplacerait a par d, puis b par e, c par f, d par g, e par h et ainsi de suite jusqu'à arriver à w qui est remplacé par z. et pour les lettres suivante, on revient au début de l'alphabet, ainsi x est remplacé par a, y par b et z par c.\n",
      "\n",
      "le chiffre de césar doit son nom à jules césar qui, selon suétone, l'utilisait avec l'alphabet grec et un décalage de trois sur la droite pour certaines de ses correspondances secrètes, notamment militaires :\n",
      "\n",
      "« il y employait, pour les choses tout à fait secrètes, une espèce de chiffre qui en rendait le sens inintelligible (les lettres étant disposées de manière à ne pouvoir jamais former un mot), et qui consistait, je le dis pour ceux qui voudront les déchiffrer, à changer le rang des lettres dans l'alphabet, en écrivant la quatrième pour la première, c'est-à-dire le d pour le a, et ainsi de suite. »\n",
      "\n",
      "— suétone, vie des douze césars, livre i, paragraphe 56.\n",
      "\n",
      "dans notre cas, l'alphabet ne se limite pas aux 26 lettres mais contient toute la liste des symboles de l'unicode, dont les chiffres, les lettres minuscules, majuscules, les espaces, sauts de ligne, ponctuation, les symboles divers, les alphabets d'autres langues, les emojis etc. chaque symbole possède une numéro dans la table de caractères unicodes. pour obtenir le numéro d'un caractère on peut utiliser en python la fonction ord. par exemple ord('a') vaut 97, ord('z') vaut 125, ord('a') vaut 65, ord('#') vaut 35 et ord('*hamburger*') vaut 127828 (attention : il est nécessaire d'utiliser python 3 ici, dans python 2 l'instruction ord('*hamburger*') provoque une erreur :  ord() expected a character, but string of length 4 found). réciproquement, pour obtenir le symbole numéroté par l'entier n dans la table, on peut utilisé la fonction chr. ainsi, chr(97) retourne le caractère 'a' et chr(125) retourne le caractère 'z'. si on effectue un décalage de 3 sur tout le tableau des caractères unicodes, les lettres de la fin de l'alphabet sont envoyées sur les symboles qui suivent dans la table unicode, par exemple la lettre minuscule 'x' est envoyée sur le symbole '{', la lettre 'y' est envoyé sur la barre verticale '|', et enfin 'z' est envoyé sur '}'.\n",
      "\n",
      "à vous de jouer désormais. il ne vous reste qu'à trouver la clé qui a été utilisée pour le message suivant. cela ne posera aucune difficulté pour l'ordinateur (tandis que le travail serait très fastidieux à la main). bonne chance !\n",
      "\n",
      "--\n",
      "joël\n"
     ]
    }
   ],
   "source": [
    "print(decipher(\"data/message1.txt\", Transpose(1447)))"
   ]
  },
  {
   "cell_type": "code",
   "execution_count": null,
   "metadata": {},
   "outputs": [],
   "source": []
  }
 ],
 "metadata": {
  "kernelspec": {
   "display_name": "Python 3",
   "language": "python",
   "name": "python3"
  },
  "language_info": {
   "codemirror_mode": {
    "name": "ipython",
    "version": 3
   },
   "file_extension": ".py",
   "mimetype": "text/x-python",
   "name": "python",
   "nbconvert_exporter": "python",
   "pygments_lexer": "ipython3",
   "version": "3.7.6"
  }
 },
 "nbformat": 4,
 "nbformat_minor": 2
}
