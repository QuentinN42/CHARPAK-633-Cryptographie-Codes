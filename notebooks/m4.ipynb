{
 "cells": [
  {
   "cell_type": "code",
   "execution_count": 1,
   "metadata": {},
   "outputs": [],
   "source": [
    "import os\n",
    "os.chdir(\"../\")"
   ]
  },
  {
   "cell_type": "code",
   "execution_count": 2,
   "metadata": {
    "scrolled": true
   },
   "outputs": [],
   "source": [
    "from functions import Shift, MultiFunc, LinspaceCut, zipMerge\n",
    "from base import decipher"
   ]
  },
  {
   "cell_type": "code",
   "execution_count": 3,
   "metadata": {},
   "outputs": [],
   "source": [
    "s = decipher(\"./data/message4.txt\", Shift(0))"
   ]
  },
  {
   "cell_type": "code",
   "execution_count": 4,
   "metadata": {},
   "outputs": [
    {
     "name": "stdout",
     "output_type": "stream",
     "text": [
      "-13\n",
      "-43\n"
     ]
    }
   ],
   "source": [
    "for _s in LinspaceCut(2)(s):\n",
    "    print(ord(' ') - ord(max({_s.count(a): a for a in set(_s)}.items(), key=lambda x: x[0])[1]))"
   ]
  },
  {
   "cell_type": "code",
   "execution_count": null,
   "metadata": {},
   "outputs": [],
   "source": [
    "dec = ord(' ') - ord('a')"
   ]
  },
  {
   "cell_type": "code",
   "execution_count": 23,
   "metadata": {},
   "outputs": [
    {
     "name": "stdout",
     "output_type": "stream",
     "text": [
      "\"Plus rien ne vous arrête on dirait. Passons donc à la suite.\n",
      "\n",
      "Le chiffre de César est une exemple de ce qu'on appelle une substitution mono-alphabétique : pour chaque caractère de l'alphabet, on attribue un autre caractère. Notons qu'ici, l'alphabet ne se limite pas nécessairement juste aux lettre mais désigne l'ensemble des symboles possibles dans un message; donc sur ordinateur, notre alphabet contient tous les symboles de l'Unicode, dont les chiffres, les lettres minuscules, majuscules, les espaces, sauts de ligne, ponctuation etc). \n",
      "En termes mathématiques, on effectue une permutation de l'ensemble des symboles de l'alphabet. On vient de voir sur ces quelques exemples que le chiffre de César est obsolète à l'âge des ordinateurs (et même à la main on pourrait l'attaquer et on le faisait dès le IXème siècle). Mais il y a deux axes d'améliorations de l'algorithme :\n",
      "toujours en restant sur le principe d'un chiffre mono-alphabétique, on pourrait choisir une permutation des lettres plus complexe qu'un simple décalage. Si on autorise un permutation arbitraire, le nombre de possibilités de clés augmente considérablement. En effet, pour un alphabet à n symboles, il y a n décalages possibles. Et il y a n! (factoriel n) permutations de l'alphabet (ce qui est bien plus grand que n). On verra pourtant que c'est en vérité assez vulnérable.\n",
      "on peut choisir une substitution différente selon la position du caractère dans le message. On parlera alors de chiffre poly-alphabétique.\n",
      "\n",
      "Le message que vous venez de déchiffrer est une exemple simple de chiffre poly-alphabétique. On a choisi d'alterner deux substituons par décalages de manière périodique en fonction de positions paires et impaires. Alterner ainsi des substitutions par décalage de manière périodique est ce qu'on appelle le chiffre de Vigenère. La clé est constituée de la suite des décalages qu'on doit effectuer. Le message suivant est chiffré à l'aide d'un code de Vigenère mais je ne vous dirai pas la longueur de la clé ! À vous d'essayer de la trouver par vous même. Un petit indice, cherchez les répétions de mot long dans le texte chiffré. Que peut-on raisonnablement supposer sur les écarts entre deux répétitions ?\n",
      "\n",
      "--\n",
      "Joël\n"
     ]
    }
   ],
   "source": [
    "print(decipher(\"./data/message4.txt\", MultiFunc(LinspaceCut(2), [Shift(-13), Shift(-43)], zipMerge)))"
   ]
  },
  {
   "cell_type": "code",
   "execution_count": 24,
   "metadata": {},
   "outputs": [
    {
     "data": {
      "text/plain": [
       "'/{y\\xa0\\x80K\\x7f\\x94r\\x99-\\x99rK\\x83\\x9a\\x82\\x9e-\\x8c\\x7f\\x9d÷\\x9frK|\\x99-\\x8fv\\x9dn\\x94\\x81Y-{n\\x9e\\x80\\x9a{\\x9e-\\x8f|\\x99pKíKy\\x8c-\\x9e\\x82\\x94\\x81\\x90;5\\x17wrKp\\x93v\\x91s\\x9drKq\\x90-nö\\x9en\\x9d-\\x90\\x80\\x9f-\\xa0{\\x90-\\x90\\x85\\x90z\\x9by\\x90-\\x8frKp\\x90-\\x9c\\x82R|\\x99-\\x8c}\\x9br\\x97y\\x90-\\xa0{\\x90-\\x9e\\x82\\x8d\\x80\\x9fv\\x9f\\x82\\x9fv\\x9a{Kz\\x9a{\\x9a:\\x8cy\\x9bu\\x8coĔ\\x81\\x94~\\xa0rKGK}\\x9a\\x82\\x9d-\\x8eu\\x8c~\\xa0rKp\\x8c\\x7f\\x8cp\\x9fõ\\x9drKq\\x90-\\x974\\x8cy\\x9bu\\x8co\\x90\\x81W-\\x9a{Kn\\x9f\\x81\\x9dv\\x8d\\x82\\x90-\\xa0{Kn\\xa0\\x81\\x9drKp\\x8c\\x7f\\x8cp\\x9fõ\\x9drY-y|\\x9f|\\x99\\x80K~\\xa04\\x94p\\x949KyRn\\x97}\\x93n\\x8dr\\x9f-\\x99rK\\x80\\x90-\\x97v\\x98v\\x9frK}\\x8c\\x80K{Ĕp\\x90\\x80\\x9en\\x94\\x7f\\x90z\\x90{\\x9f-\\x95\\x82\\x9e\\x81\\x90-\\x8c\\x82£-\\x97r\\x9f\\x81\\x9drKz\\x8cv\\x9e-\\x8fö\\x9ev\\x92{\\x90-\\x974\\x90{\\x9er\\x98o\\x97rKq\\x90\\x80K\\x80¤z\\x8d|\\x97r\\x9e-\\x9b|\\x9e\\x80\\x94o\\x97r\\x9e-\\x8fn\\x99\\x80K\\x82\\x99-\\x98r\\x9e\\x80\\x8ct\\x90HKq\\x9a{\\x8e-\\x9e\\x82\\x9d-\\x9a\\x7f\\x8fv\\x99n\\x9fr\\xa0\\x7fW-\\x99|\\x9f\\x7f\\x90-\\x8cy\\x9bu\\x8co\\x90\\x81Kp\\x9a{\\x9fv\\x90{\\x9f-\\x9f|\\xa0\\x80Ky\\x90\\x80K\\x80¤z\\x8d|\\x97r\\x9e-\\x8frKyRb\\x99v\\x8e|\\x8frW-\\x8f|\\x99\\x81Ky\\x90\\x80Kp\\x93v\\x91s\\x9dr\\x9e9Ky\\x90\\x80Ky\\x90\\x81\\x9f\\x7f\\x90\\x80Kz\\x94{\\xa0\\x80\\x8e\\x82\\x97r\\x9e9Kz\\x8cw\\xa0\\x80\\x8e\\x82\\x97r\\x9e9Ky\\x90\\x80Kr\\x9e}\\x8cp\\x90\\x80W-\\x9en\\xa0\\x81\\x9e-\\x8frKy\\x94t\\x99rW-\\x9b|\\x99p\\x9f\\x82\\x8c\\x81\\x94|\\x99-\\x90\\x81\\x8e6Y-5R\\x99-\\x9fr\\x9dz\\x90\\x80Kz\\x8c\\x81\\x93ö\\x98n\\x9fv\\x9c\\x82\\x90\\x80W-\\x9a{Kr\\x91s\\x90p\\x9f\\x82\\x90-\\xa0{\\x90-\\x9br\\x9dz\\xa0\\x81\\x8c\\x81\\x94|\\x99-\\x8frKyRr\\x99\\x80\\x90z\\x8dy\\x90-\\x8fr\\x9e-\\x9e\\x86\\x98o\\x9ay\\x90\\x80Kq\\x90-\\x974\\x8cy\\x9bu\\x8co\\x90\\x81Y-z{K\\x83\\x94r\\x99\\x81Kq\\x90-¡|\\x94\\x7fK\\x80\\xa0\\x7fKp\\x90\\x80K~\\xa0r\\x97~\\xa0r\\x9e-\\x90\\x85\\x90z\\x9by\\x90\\x80K~\\xa0rKy\\x90-\\x8eu\\x94s\\x91\\x7f\\x90-\\x8frKPĔ\\x80\\x8c\\x7fKr\\x9e\\x81K|\\x8d\\x80\\x9ayē\\x81\\x90-ċ-\\x974čt\\x90-\\x8fr\\x9e-\\x9a\\x7f\\x8fv\\x99n\\x9fr\\xa0\\x7f\\x9e-Sr\\x9f-\\x98÷\\x98rKíKy\\x8c-\\x98n\\x94{K|\\x99-\\x9b|\\xa0\\x7f\\x9dn\\x94\\x81KyRn\\x9f\\x81\\x8c~\\xa0r\\x9d-\\x90\\x81K|\\x99-\\x97rKs\\x8cv\\x9en\\x94\\x81Kqē\\x80Ky\\x90-teēz\\x90-\\x9evēp\\x97rT;KZ\\x8cv\\x9e-\\x94yK\\x86KnKq\\x90\\x82£-\\x8c\\x85\\x90\\x80KqRn\\x98ö\\x97v\\x9a\\x7f\\x8c\\x81\\x94|\\x99\\x80Kq\\x90-\\x974\\x8cy\\x92|\\x9dv\\x9fu\\x98rKG5\\x81\\x9a\\x82\\x95|\\xa0\\x7f\\x9e-\\x90{K\\x7f\\x90\\x80\\x9fn\\x99\\x81K\\x80\\xa0\\x7fKy\\x90-\\x9b\\x7f\\x94{\\x8ev\\x9brKqR\\x82\\x99-\\x8eu\\x94s\\x91\\x7f\\x90-\\x98|\\x99|Xn\\x97}\\x93n\\x8dö\\x9fv\\x9c\\x82\\x909K|\\x99-\\x9b|\\xa0\\x7f\\x9dn\\x94\\x81Kp\\x93|\\x94\\x80\\x94\\x7fK\\x82\\x99rK}\\x90\\x7f\\x98\\x82\\x9fn\\x9fv\\x9a{Kq\\x90\\x80Ky\\x90\\x81\\x9f\\x7f\\x90\\x80K}\\x97\\x82\\x9e-\\x8e|\\x98}\\x97r£rK~\\xa04\\xa0{K\\x80\\x94z\\x9by\\x90-\\x8fö\\x8en\\x97n\\x92rY-~vK|\\x99-\\x8c\\x82\\x9f|\\x9dv\\x9erK\\x82\\x99-\\x9br\\x9dz\\xa0\\x81\\x8c\\x81\\x94|\\x99-\\x8c\\x7f\\x8dv\\x9f\\x7f\\x8cv\\x9drW-\\x97rK{\\x9az\\x8d\\x7f\\x90-\\x8frK}\\x9a\\x80\\x9ev\\x8dv\\x97v\\x9fö\\x9e-\\x8frKp\\x97ö\\x9e-\\x8c\\x82\\x92z\\x90{\\x9frKp\\x9a{\\x9ev\\x8fö\\x9dn\\x8dy\\x90z\\x90{\\x9f;KR\\x99-\\x90s\\x91r\\x9f9K}\\x9a\\x82\\x9d-\\xa0{Kn\\x97}\\x93n\\x8dr\\x9f-ċ-\\x99-\\x9e\\x86\\x98o\\x9ay\\x90\\x80W-\\x94yK\\x86KnK{KqĔp\\x8cy\\x8ct\\x90\\x80K}\\x9a\\x80\\x9ev\\x8dy\\x90\\x80Y-p\\x81Kv\\x97-¤-\\x8c-\\x99.K5\\x91n\\x8e\\x81\\x9a\\x7f\\x94r\\x97-\\x996K}\\x90\\x7f\\x98\\x82\\x9fn\\x9fv\\x9a{\\x9e-\\x8frKyRn\\x97}\\x93n\\x8dr\\x9f-Sp\\x90-\\x9c\\x82\\x94-\\x90\\x80\\x9f-\\x8dv\\x90{K}\\x97\\x82\\x9e-\\x92\\x7f\\x8c{\\x8f-\\x9c\\x82\\x90-\\x996Y-z{K\\x83\\x90\\x7f\\x9dnK}\\x9a\\x82\\x9d\\x81\\x8c{\\x9f-\\x9c\\x82\\x90-\\x8e4\\x90\\x80\\x9f-\\x90{K\\x83Ĕ\\x7f\\x94\\x81Ĕ-\\x8c\\x80\\x9er¥-¡\\x82\\x97{Ĕ\\x7f\\x8co\\x97rY\\x17\\x9a{K}\\x90\\x82\\x9f-\\x8eu\\x9av\\x9ev\\x9d-\\xa0{\\x90-\\x9e\\x82\\x8d\\x80\\x9fv\\x9f\\x82\\x9fv\\x9a{Kq\\x94s\\x91ö\\x9dr\\x99\\x81\\x90-\\x9er\\x97|\\x99-\\x97nK}\\x9a\\x80\\x94\\x81\\x94|\\x99-\\x8f\\x82Kp\\x8c\\x7f\\x8cp\\x9fõ\\x9drKq\\x8c{\\x9e-\\x97rKz\\x90\\x80\\x9en\\x92rY-z{K}\\x8c\\x7f\\x97r\\x9dnKn\\x97|\\x9d\\x80Kq\\x90-\\x8eu\\x94s\\x91\\x7f\\x90-\\x9b|\\x97\\x86Xn\\x97}\\x93n\\x8dö\\x9fv\\x9c\\x82\\x90;5\\x17wrKz\\x90\\x80\\x9en\\x92rK~\\xa0rK\\x83\\x9a\\x82\\x9e-¡r\\x99r¥-\\x8frKqĔp\\x93v\\x91s\\x9dr\\x9d-\\x90\\x80\\x9f-\\xa0{\\x90-\\x90\\x85\\x90z\\x9by\\x90-\\x9ev\\x98}\\x97rKq\\x90-\\x8eu\\x94s\\x91\\x7f\\x90-\\x9b|\\x97\\x86Xn\\x97}\\x93n\\x8dö\\x9fv\\x9c\\x82\\x90;K\\\\\\x99-\\x8c-\\x8eu\\x9av\\x9evKqRn\\x97\\x81\\x90\\x7f\\x99r\\x9d-\\x8fr\\xa0\\x85K\\x80\\xa0o\\x9e\\x81\\x94\\x81\\xa0|\\x99\\x80K}\\x8c\\x7fKqĔp\\x8cy\\x8ct\\x90\\x80Kq\\x90-\\x98n\\x99vē\\x7f\\x90-\\x9bö\\x9dv\\x9aq\\x94~\\xa0rKr\\x99-\\x91|\\x99p\\x9fv\\x9a{Kq\\x90-\\x9b|\\x9ev\\x9fv\\x9a{\\x9e-\\x9bn\\x94\\x7f\\x90\\x80Kr\\x9f-\\x94z\\x9bn\\x94\\x7f\\x90\\x80Y-ly\\x9fr\\x9d{\\x90\\x7fKn\\x94{\\x9evKq\\x90\\x80K\\x80\\xa0o\\x9e\\x81\\x94\\x81\\xa0\\x81\\x94|\\x99\\x80K}\\x8c\\x7fKqĔp\\x8cy\\x8ct\\x90-\\x8frKz\\x8c{\\x94õ\\x9drK}Ĕ\\x7f\\x94|\\x8fv\\x9c\\x82\\x90-\\x90\\x80\\x9f-\\x8erK~\\xa04\\x9a{Kn\\x9b}\\x90y\\x97rKy\\x90-\\x8eu\\x94s\\x91\\x7f\\x90-\\x8frKc\\x94t\\x90{ē\\x7f\\x90;KY\\x8c-\\x8eyĔ-\\x90\\x80\\x9f-\\x8e|\\x99\\x80\\x9fv\\x9f\\x82ĔrKq\\x90-\\x97nK\\x80\\xa0v\\x9frKq\\x90\\x80KqĔp\\x8cy\\x8ct\\x90\\x80K~\\xa04\\x9a{Kq\\x9av\\x9f-\\x90s\\x91r\\x8e\\x81\\xa0r\\x9d;KY\\x90-\\x98r\\x9e\\x80\\x8ct\\x90-\\x9e\\x82\\x94\\x83\\x8c{\\x9f-\\x90\\x80\\x9f-\\x8eu\\x94s\\x91\\x7fĔ-ċ-\\x974\\x8cv\\x8frKqR\\x82\\x99-\\x8e|\\x8frKq\\x90-\\x81v\\x92r\\x99õ\\x9drKz\\x8cv\\x9e-\\x95rK{\\x90-¡|\\xa0\\x80Kq\\x94\\x7f\\x8cvK}\\x8c\\x80Ky\\x8c-\\x97|\\x99t\\xa0r\\xa0\\x7fKq\\x90-\\x97nKp\\x97öK.KÍK\\x83\\x9a\\x82\\x9e-\\x8f4\\x90\\x80\\x9en¤r\\x9d-\\x8frKy\\x8c-\\x9f\\x7f\\x9a\\x82¡r\\x9d-\\x9bn\\x9d-¡|\\xa0\\x80Kzĕz\\x90;Kb\\x99-\\x9br\\x9fv\\x9f-\\x94{\\x8fv\\x8erW-\\x8eu\\x90\\x7f\\x8eu\\x90\\x87Ky\\x90\\x80K\\x7fĔ}Ĕ\\x81\\x94|\\x99\\x80Kq\\x90-\\x98|\\x9f-\\x97|\\x99tKq\\x8c{\\x9e-\\x97rK\\x81\\x90\\x85\\x9frKp\\x93v\\x91s\\x9döY-|\\x82\\x90-\\x9br\\xa0\\x81X|\\x99-\\x9dn\\x94\\x80\\x9a{\\x99n\\x8dy\\x90z\\x90{\\x9f-\\x9e\\x82\\x9b}\\x9a\\x80\\x90\\x7fK\\x80\\xa0\\x7fKy\\x90\\x80Kö\\x8en\\x9d\\x81\\x9e-\\x90{\\x9f\\x7f\\x90-\\x8fr\\xa0\\x85K\\x7fĔ}Ĕ\\x81\\x94\\x81\\x94|\\x99\\x80KL5\\x17X:5W\\x9aø\\x97'"
      ]
     },
     "execution_count": 24,
     "metadata": {},
     "output_type": "execute_result"
    }
   ],
   "source": [
    "decipher(\"./data/message4.txt\", Shift(0))"
   ]
  },
  {
   "cell_type": "code",
   "execution_count": null,
   "metadata": {},
   "outputs": [],
   "source": []
  }
 ],
 "metadata": {
  "kernelspec": {
   "display_name": "Python 3",
   "language": "python",
   "name": "python3"
  },
  "language_info": {
   "codemirror_mode": {
    "name": "ipython",
    "version": 3
   },
   "file_extension": ".py",
   "mimetype": "text/x-python",
   "name": "python",
   "nbconvert_exporter": "python",
   "pygments_lexer": "ipython3",
   "version": "3.7.6"
  }
 },
 "nbformat": 4,
 "nbformat_minor": 2
}
