{
 "cells": [
  {
   "cell_type": "code",
   "execution_count": 1,
   "metadata": {},
   "outputs": [],
   "source": [
    "import os\n",
    "os.chdir(\"../\")"
   ]
  },
  {
   "cell_type": "code",
   "execution_count": 3,
   "metadata": {
    "scrolled": true
   },
   "outputs": [],
   "source": [
    "from functions import Shift,auto_shift\n",
    "from base import decipher"
   ]
  },
  {
   "cell_type": "code",
   "execution_count": null,
   "metadata": {},
   "outputs": [],
   "source": [
    "for i in range(25):\n",
    "    try:\n",
    "        print(i, \"\\n\\n\", decipher(\"./data/message3.txt\", Shift(-i)), \"\\n\\n\\n\")\n",
    "    except:\n",
    "        pass"
   ]
  },
  {
   "cell_type": "code",
   "execution_count": 6,
   "metadata": {},
   "outputs": [
    {
     "name": "stdout",
     "output_type": "stream",
     "text": [
      "ōǰųŰŪŰŻŨŻŰŶŵźĵħŔŨŰźħŨŽŶżŶŵźħŸżŨŵūħŴǱŴŬħŸżŬħűżźŸżĮŰŪŰħŪĮǰŻŨŰŻħżŵħŷŬżħŻŹŶŷħŭŨŪŰųŬħŷŶżŹħŽŶżźĳħŵĮŬźŻĴŪŬħŷŨźħņħőŬħźŨŰźħŸżŬħŽŶżźħŨŻŻŬŵūŬƁħżŵħŽǰŹŰŻŨũųŬħūǰŭŰĵđđŉŶŵĳħŴŨŰŵŻŬŵŨŵŻħŸżŬħŽŶżźħŴŨŰŻŹŰźŬƁħųŬħūǰŪůŰŭŭŹŬŴŬŵŻħūżħŪŶūŬħūŬħŊǰźŨŹĳħŵŶżźħŨųųŶŵźħŵŶżźħŨŻŻŨŸżŬŹħǧħżŵħŷŹŶũųǯŴŬħűżźŻŬħżŵħũŹŰŵħŷųżźħūŰŭŭŰŪŰųŬĵħœŬħŴŬźźŨŮŬħźżŰŽŨŵŻħŨħǰŻǰħŪůŰŭŭŹǰħźŬųŶŵħųŬħŪŶūŬħūŬħŊǰźŨŹĳħŴŨŰźħŨŽŬŪħżŵŬħŷŬŻŰŻŬħŽŨŹŰŨŵŻŬħŷŶżŹħŪŶŹźŬŹħųŬźħŪůŶźŬźħŁħŪůŨŸżŬħŪŨŹŨŪŻǯŹŬħŬŵħŷŶźŰŻŰŶŵħŷŨŰŹŬħǰŻǰħŪůŰŭŭŹǰħŨŽŬŪħżŵŬħŪŬŹŻŨŰŵŬħŪųǰĳħŬŻħŪůŨŸżŬħŪŨŹŨŪŻǯŹŬħŬŵħŷŶźŰŻŰŶŵħŰŴŷŨŰŹŬħŨŽŬŪħżŵŬħźŬŪŶŵūŬħŪųǰħĨħŚŨżŹŬƁĴŽŶżźħŻŹŶżŽŬŹħųŬħŴŬźźŨŮŬħŶŹŰŮŰŵŨųħņđđĴĴđőŶǲų\n"
     ]
    }
   ],
   "source": [
    "print(decipher(\"./data/message3.txt\", Shift(0)))"
   ]
  },
  {
   "cell_type": "code",
   "execution_count": 7,
   "metadata": {},
   "outputs": [],
   "source": [
    "s = \"ōǰųŰŪŰŻŨŻŰŶŵźĵħŔŨŰźħŨŽŶżŶŵźħŸżŨŵūħŴǱŴŬħŸżŬħűżźŸżĮŰŪŰħŪĮǰŻŨŰŻħżŵħŷŬżħŻŹŶŷħŭŨŪŰųŬħŷŶżŹħŽŶżźĳħŵĮŬźŻĴŪŬħŷŨźħņħőŬħźŨŰźħŸżŬħŽŶżźħŨŻŻŬŵūŬƁħżŵħŽǰŹŰŻŨũųŬħūǰŭŰĵđđŉŶŵĳħŴŨŰŵŻŬŵŨŵŻħŸżŬħŽŶżźħŴŨŰŻŹŰźŬƁħųŬħūǰŪůŰŭŭŹŬŴŬŵŻħūżħŪŶūŬħūŬħŊǰźŨŹĳħŵŶżźħŨųųŶŵźħŵŶżźħŨŻŻŨŸżŬŹħǧħżŵħŷŹŶũųǯŴŬħűżźŻŬħżŵħũŹŰŵħŷųżźħūŰŭŭŰŪŰųŬĵħœŬħŴŬźźŨŮŬħźżŰŽŨŵŻħŨħǰŻǰħŪůŰŭŭŹǰħźŬųŶŵħųŬħŪŶūŬħūŬħŊǰźŨŹĳħŴŨŰźħŨŽŬŪħżŵŬħŷŬŻŰŻŬħŽŨŹŰŨŵŻŬħŷŶżŹħŪŶŹźŬŹħųŬźħŪůŶźŬźħŁħŪůŨŸżŬħŪŨŹŨŪŻǯŹŬħŬŵħŷŶźŰŻŰŶŵħŷŨŰŹŬħǰŻǰħŪůŰŭŭŹǰħŨŽŬŪħżŵŬħŪŬŹŻŨŰŵŬħŪųǰĳħŬŻħŪůŨŸżŬħŪŨŹŨŪŻǯŹŬħŬŵħŷŶźŰŻŰŶŵħŰŴŷŨŰŹŬħŨŽŬŪħżŵŬħźŬŪŶŵūŬħŪųǰħĨħŚŨżŹŬƁĴŽŶżźħŻŹŶżŽŬŹħųŬħŴŬźźŨŮŬħŶŹŰŮŰŵŨųħņđđĴĴđőŶǲų\""
   ]
  },
  {
   "cell_type": "code",
   "execution_count": 10,
   "metadata": {},
   "outputs": [
    {
     "data": {
      "text/plain": [
       "(95, 'ħ')"
      ]
     },
     "execution_count": 10,
     "metadata": {},
     "output_type": "execute_result"
    }
   ],
   "source": [
    "max({s.count(a): a for a in set(s)}.items(), key=lambda x: x[0])"
   ]
  },
  {
   "cell_type": "code",
   "execution_count": 25,
   "metadata": {},
   "outputs": [],
   "source": [
    "dec = ord(' ') - ord('ħ')"
   ]
  },
  {
   "cell_type": "code",
   "execution_count": 26,
   "metadata": {},
   "outputs": [
    {
     "name": "stdout",
     "output_type": "stream",
     "text": [
      "Félicitations. Mais avouons quand même que jusqu'ici c'était un peu trop facile pour vous, n'est-ce pas ? Je sais que vous attendez un véritable défi.\n",
      "\n",
      "Bon, maintenant que vous maitrisez le déchiffrement du code de César, nous allons nous attaquer à un problème juste un brin plus difficile. Le message suivant a été chiffré selon le code de César, mais avec une petite variante pour corser les choses : chaque caractère en position paire été chiffré avec une certaine clé, et chaque caractère en position impaire avec une seconde clé ! Saurez-vous trouver le message original ?\n",
      "\n",
      "--\n",
      "Joël\n"
     ]
    }
   ],
   "source": [
    "print(decipher(\"./data/message3.txt\", Shift(dec)))"
   ]
  },
  {
   "cell_type": "code",
   "execution_count": null,
   "metadata": {},
   "outputs": [],
   "source": []
  }
 ],
 "metadata": {
  "kernelspec": {
   "display_name": "Python 3",
   "language": "python",
   "name": "python3"
  },
  "language_info": {
   "codemirror_mode": {
    "name": "ipython",
    "version": 3
   },
   "file_extension": ".py",
   "mimetype": "text/x-python",
   "name": "python",
   "nbconvert_exporter": "python",
   "pygments_lexer": "ipython3",
   "version": "3.7.6"
  }
 },
 "nbformat": 4,
 "nbformat_minor": 2
}
