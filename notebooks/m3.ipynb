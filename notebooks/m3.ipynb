{
 "cells": [
  {
   "cell_type": "code",
   "execution_count": 1,
   "metadata": {},
   "outputs": [],
   "source": [
    "import os\n",
    "os.chdir(\"../\")"
   ]
  },
  {
   "cell_type": "code",
   "execution_count": 2,
   "metadata": {
    "scrolled": true
   },
   "outputs": [],
   "source": [
    "from base import auto_shift, auto_vignere"
   ]
  },
  {
   "cell_type": "code",
   "execution_count": 3,
   "metadata": {},
   "outputs": [
    {
     "name": "stdout",
     "output_type": "stream",
     "text": [
      "Félicitations. Mais avouons quand même que jusqu'ici c'était un peu trop facile pour vous, n'est-ce pas ? Je sais que vous attendez un véritable défi.\n",
      "\n",
      "Bon, maintenant que vous maitrisez le déchiffrement du code de César, nous allons nous attaquer à un problème juste un brin plus difficile. Le message suivant a été chiffré selon le code de César, mais avec une petite variante pour corser les choses : chaque caractère en position paire été chiffré avec une certaine clé, et chaque caractère en position impaire avec une seconde clé ! Saurez-vous trouver le message original ?\n",
      "\n",
      "--\n",
      "Joël\n"
     ]
    }
   ],
   "source": [
    "print(auto_shift(\"./data/message3.txt\"))"
   ]
  },
  {
   "cell_type": "code",
   "execution_count": 4,
   "metadata": {},
   "outputs": [
    {
     "name": "stdout",
     "output_type": "stream",
     "text": [
      "Félicitations. Mais avouons quand même que jusqu'ici c'était un peu trop facile pour vous, n'est-ce pas ? Je sais que vous attendez un véritable défi.\n",
      "\n",
      "Bon, maintenant que vous maitrisez le déchiffrement du code de César, nous allons nous attaquer à un problème juste un brin plus difficile. Le message suivant a été chiffré selon le code de César, mais avec une petite variante pour corser les choses : chaque caractère en position paire été chiffré avec une certaine clé, et chaque caractère en position impaire avec une seconde clé ! Saurez-vous trouver le message original ?\n",
      "\n",
      "--\n",
      "Joël\n"
     ]
    }
   ],
   "source": [
    "print(auto_vignere(\"./data/message3.txt\"))"
   ]
  },
  {
   "cell_type": "code",
   "execution_count": null,
   "metadata": {},
   "outputs": [],
   "source": []
  }
 ],
 "metadata": {
  "kernelspec": {
   "display_name": "Python 3",
   "language": "python",
   "name": "python3"
  },
  "language_info": {
   "codemirror_mode": {
    "name": "ipython",
    "version": 3
   },
   "file_extension": ".py",
   "mimetype": "text/x-python",
   "name": "python",
   "nbconvert_exporter": "python",
   "pygments_lexer": "ipython3",
   "version": "3.7.6"
  }
 },
 "nbformat": 4,
 "nbformat_minor": 2
}
