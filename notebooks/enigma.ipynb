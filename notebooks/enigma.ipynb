{
 "cells": [
  {
   "cell_type": "code",
   "execution_count": 1,
   "metadata": {
    "pycharm": {
     "is_executing": false
    }
   },
   "outputs": [],
   "source": [
    "import os\n",
    "\n",
    "os.chdir(\"../\")"
   ]
  },
  {
   "cell_type": "code",
   "execution_count": 2,
   "metadata": {
    "pycharm": {
     "is_executing": false
    },
    "scrolled": true
   },
   "outputs": [],
   "source": [
    "from base import Enigma, EnigmaDecode\n",
    "from tqdm import tqdm"
   ]
  },
  {
   "cell_type": "code",
   "execution_count": 3,
   "metadata": {},
   "outputs": [],
   "source": [
    "def reverse(poss, n):\n",
    "    for i in range(n):\n",
    "        poss[0] -= 1\n",
    "        if poss[0] == -1:\n",
    "            poss[0] = 255\n",
    "            poss[1] -= 1\n",
    "            if poss[1] == -1:\n",
    "                poss[1] = 255\n",
    "                poss[2] -= 1\n",
    "                if poss[2] == -1:\n",
    "                    poss[2] = 255\n",
    "    return poss"
   ]
  },
  {
   "cell_type": "code",
   "execution_count": 4,
   "metadata": {},
   "outputs": [],
   "source": [
    "with open(\"data/message8.txt\", \"r\", encoding='utf-8') as f:\n",
    "    txt = f.read()"
   ]
  },
  {
   "cell_type": "code",
   "execution_count": null,
   "metadata": {
    "pycharm": {
     "is_executing": false
    }
   },
   "outputs": [],
   "source": [
    "tests = [\n",
    "    ([0, 6, 4], [140, 61, 145]),\n",
    "    ([2, 3, 7], [200, 165, 251]),\n",
    "    ([5, 1, 7], [68, 109, 126]),\n",
    "    ([7, 6, 0], [21, 99, 61])\n",
    "]"
   ]
  },
  {
   "cell_type": "code",
   "execution_count": null,
   "metadata": {},
   "outputs": [],
   "source": [
    "for g, k in tests:\n",
    "    de = EnigmaDecode(g, reverse(k, len(txt)))\n",
    "    print(f\"\\n\\n {k} \\n\")\n",
    "    print(de(txt)[-10:])"
   ]
  },
  {
   "cell_type": "code",
   "execution_count": null,
   "metadata": {},
   "outputs": [],
   "source": [
    "de = EnigmaDecode([5, 1, 7], reverse([68, 109, 126], len(txt)))\n",
    "out = de(txt)"
   ]
  },
  {
   "cell_type": "code",
   "execution_count": null,
   "metadata": {},
   "outputs": [],
   "source": [
    "i = 0\n",
    "print(out[i:i+10000])"
   ]
  },
  {
   "cell_type": "code",
   "execution_count": null,
   "metadata": {},
   "outputs": [],
   "source": [
    "reverse([68, 109, 126], len(txt))"
   ]
  },
  {
   "cell_type": "code",
   "execution_count": 33,
   "metadata": {},
   "outputs": [
    {
     "name": "stdout",
     "output_type": "stream",
     "text": [
      "Félicitations ! Vous avez réussi à déchiffrer ce huitième message. Aujourd'hui encore, on utilise des algorithmes de chiffremment symmétriques qui reposent sur des transpositions (changer l'ordre des lettres dans le message) ªt substitutions (effectuer une permutation de l'alphabet) à ceci près que les opérations sont plus souvent effectuées sur des blocs de bits plutôt que sur dey lettres à proprement parler (on parle de chiffrement par blocs). Pour vous récompenser, voici maintenant un extrait de Notre-Dame de Paris de Victor Hugo.\n",
      "\n",
      "\n",
      "NOTRE-DAME DE PARIS\n",
      "===================\n",
      "Victor Hugo\n",
      "\n",
      "Texte établi par Paul Meurice, Librairie Ollendorff, 1904 (Ruvres complètes de Victor Hugo Roman, tome II., p. 1-41).\n",
      "\n",
      "\n",
      "\n",
      "\n",
      "LIVRE PREMIER.\n",
      "==============\n",
      "I\n",
      "\n",
      "LA GRAND\u0019SALLE.\n",
      "---------------\n",
      "Il y a aujourd\u0019hui trois cent quarante-huit ans six mois et dix-neuf jours que les parisiens s\u0019éveillèrent au bruit de toutes ×es cloches sonnant à grande volée dans\u001c",
      "la triple enceinte de la Cité, de l\u0019Université et de\n"
     ]
    }
   ],
   "source": [
    "de = EnigmaDecode([5, 1, 7], [23, 234, 124])\n",
    "out = de(txt)\n",
    "print(out[:1000])"
   ]
  },
  {
   "cell_type": "code",
   "execution_count": null,
   "metadata": {},
   "outputs": [],
   "source": [
    "with open(\"data/message8.txt.dec\", \"w\", encoding='utf-8') as f:\n",
    "    f.write(out)"
   ]
  },
  {
   "cell_type": "code",
   "execution_count": null,
   "metadata": {},
   "outputs": [],
   "source": []
  }
 ],
 "metadata": {
  "kernelspec": {
   "display_name": "Python 3",
   "language": "python",
   "name": "python3"
  },
  "language_info": {
   "codemirror_mode": {
    "name": "ipython",
    "version": 3
   },
   "file_extension": ".py",
   "mimetype": "text/x-python",
   "name": "python",
   "nbconvert_exporter": "python",
   "pygments_lexer": "ipython3",
   "version": "3.6.9"
  },
  "pycharm": {
   "stem_cell": {
    "cell_type": "raw",
    "metadata": {
     "collapsed": false
    },
    "source": []
   }
  }
 },
 "nbformat": 4,
 "nbformat_minor": 2
}
