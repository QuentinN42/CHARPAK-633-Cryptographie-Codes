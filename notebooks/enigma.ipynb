{
 "cells": [
  {
   "cell_type": "code",
   "execution_count": 1,
   "metadata": {
    "pycharm": {
     "is_executing": false
    }
   },
   "outputs": [],
   "source": [
    "import os\n",
    "\n",
    "os.chdir(\"../\")"
   ]
  },
  {
   "cell_type": "code",
   "execution_count": 2,
   "metadata": {
    "pycharm": {
     "is_executing": false
    },
    "scrolled": true
   },
   "outputs": [],
   "source": [
    "from base import Enigma, EnigmaDecode\n",
    "\n",
    "_in = \"Pour\" # \"trouver la clé, il n'y aura pas tellement d'autre choix a priori que la force brute.\""
   ]
  },
  {
   "cell_type": "code",
   "execution_count": 3,
   "metadata": {
    "collapsed": true,
    "pycharm": {
     "is_executing": false
    }
   },
   "outputs": [
    {
     "name": "stdout",
     "output_type": "stream",
     "text": [
      "---\n",
      "80\n",
      "59\n",
      "18\n",
      "35\n",
      "---\n",
      "111\n",
      "129\n",
      "200\n",
      "168\n",
      "---\n",
      "117\n",
      "105\n",
      "128\n",
      "224\n",
      "---\n",
      "114\n",
      "216\n",
      "158\n",
      "13\n",
      "===\n",
      "35\n",
      "18\n",
      "59\n",
      "80\n",
      "===\n",
      "168\n",
      "200\n",
      "129\n",
      "111\n",
      "===\n",
      "224\n",
      "128\n",
      "105\n",
      "117\n",
      "===\n",
      "13\n",
      "158\n",
      "216\n",
      "114\n"
     ]
    },
    {
     "data": {
      "text/plain": [
       "'Pour'"
      ]
     },
     "execution_count": 3,
     "metadata": {},
     "output_type": "execute_result"
    }
   ],
   "source": [
    "en = Enigma([0, 1, 2], [0, 0, 0])\n",
    "de = EnigmaDecode([0, 1, 2], [0, 0, 0])\n",
    "de(en(_in))"
   ]
  },
  {
   "cell_type": "markdown",
   "metadata": {
    "pycharm": {
     "is_executing": false
    }
   },
   "source": [
    "# Working !"
   ]
  },
  {
   "cell_type": "code",
   "execution_count": null,
   "metadata": {},
   "outputs": [],
   "source": [
    "with open(\"data/message8.txt\", \"r\") as f:\n",
    "    cf.read()"
   ]
  }
 ],
 "metadata": {
  "kernelspec": {
   "display_name": "Python 3",
   "language": "python",
   "name": "python3"
  },
  "language_info": {
   "codemirror_mode": {
    "name": "ipython",
    "version": 3
   },
   "file_extension": ".py",
   "mimetype": "text/x-python",
   "name": "python",
   "nbconvert_exporter": "python",
   "pygments_lexer": "ipython3",
   "version": "3.7.6"
  }
 },
 "nbformat": 4,
 "nbformat_minor": 2
}
